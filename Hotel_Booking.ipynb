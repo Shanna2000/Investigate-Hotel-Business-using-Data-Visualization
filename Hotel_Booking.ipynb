{
  "nbformat": 4,
  "nbformat_minor": 0,
  "metadata": {
    "colab": {
      "provenance": [],
      "authorship_tag": "ABX9TyMS73+/uQ2Ubr1jjzbwECQj",
      "include_colab_link": true
    },
    "kernelspec": {
      "name": "python3",
      "display_name": "Python 3"
    },
    "language_info": {
      "name": "python"
    }
  },
  "cells": [
    {
      "cell_type": "markdown",
      "metadata": {
        "id": "view-in-github",
        "colab_type": "text"
      },
      "source": [
        "<a href=\"https://colab.research.google.com/github/Shanna2000/Investigate-Hotel-Business-using-Data-Visualization/blob/main/Hotel_Booking.ipynb\" target=\"_parent\"><img src=\"https://colab.research.google.com/assets/colab-badge.svg\" alt=\"Open In Colab\"/></a>"
      ]
    },
    {
      "cell_type": "code",
      "execution_count": null,
      "metadata": {
        "id": "MDayOaIsfUgZ"
      },
      "outputs": [],
      "source": [
        "# Import libraries\n",
        "import pandas as pd\n",
        "import numpy as np\n",
        "import matplotlib.pyplot as plt\n",
        "%matplotlib inline\n",
        "import seaborn as sns"
      ]
    },
    {
      "cell_type": "code",
      "source": [
        "sheet_id_1 = '1xq4t9GspOmGyXTnPpW8x8rh9oS3QYWJ9ZUT1YP5sVBI'"
      ],
      "metadata": {
        "id": "lC9tUoapj4aw"
      },
      "execution_count": null,
      "outputs": []
    },
    {
      "cell_type": "code",
      "source": [
        "xls =pd.ExcelFile(f\"https://docs.google.com/spreadsheets/d/{sheet_id_1}/export?format=xlsx\")\n",
        "df = pd.read_excel(xls, 'hotel_bookings_data',header=0)"
      ],
      "metadata": {
        "id": "jgyfGe9tlau_"
      },
      "execution_count": null,
      "outputs": []
    },
    {
      "cell_type": "code",
      "source": [
        "df[df.columns[13:23]]"
      ],
      "metadata": {
        "id": "JqOeo1fACD1a"
      },
      "execution_count": null,
      "outputs": []
    },
    {
      "cell_type": "code",
      "source": [
        "df.head()"
      ],
      "metadata": {
        "id": "9U_FuceAo049"
      },
      "execution_count": null,
      "outputs": []
    },
    {
      "cell_type": "code",
      "source": [
        "df.shape"
      ],
      "metadata": {
        "id": "NeipsIfJpXmU"
      },
      "execution_count": null,
      "outputs": []
    },
    {
      "cell_type": "code",
      "source": [
        "df.info()"
      ],
      "metadata": {
        "id": "ayNwwqCbAnb7"
      },
      "execution_count": null,
      "outputs": []
    },
    {
      "cell_type": "markdown",
      "source": [
        "# Tugas 1 - Data  Preprocessing"
      ],
      "metadata": {
        "id": "IqQNmnF_xcZ1"
      }
    },
    {
      "cell_type": "markdown",
      "source": [
        "## Null Value Handling"
      ],
      "metadata": {
        "id": "y91rCQItsNze"
      }
    },
    {
      "cell_type": "code",
      "source": [
        "df.isnull().sum()"
      ],
      "metadata": {
        "id": "UH06TySPnfaA"
      },
      "execution_count": null,
      "outputs": []
    },
    {
      "cell_type": "markdown",
      "source": [
        "Dari nilai di atas, maka dapat disimpulkan:\n",
        "- Dikarenakan nilai null di kolom company sangat besar (lebih dari 90%), maka kolom 'company' akan dibuang\n",
        "- Kolom agent yang null akan diganti menjadi 0\n",
        "- Kolom city yang null akan diganti menjadi 'Kota Denpasar', modus kolom tersebut\n",
        "- Kolom children yang null akan diganti menjadi 0, modus kolom tersebut"
      ],
      "metadata": {
        "id": "YgrGEjK8rpGN"
      }
    },
    {
      "cell_type": "code",
      "source": [
        "df['city'].value_counts()"
      ],
      "metadata": {
        "id": "42wiGOoeuaCS"
      },
      "execution_count": null,
      "outputs": []
    },
    {
      "cell_type": "code",
      "source": [
        "#Membuang kolom 'company'\n",
        "df.drop(columns = 'company', inplace = True)"
      ],
      "metadata": {
        "id": "dJmaWyWCr-5V"
      },
      "execution_count": null,
      "outputs": []
    },
    {
      "cell_type": "code",
      "source": [
        "#Mengganti nilai null kolom 'agent' menjadi 0\n",
        "df['agent'] = df['agent'].fillna(0)\n",
        "\n",
        "#Mengganti nilai null kolom 'city' menjadi 'Kota Denpasar'\n",
        "df['city'] = df['city'].fillna('Kota Denpasar')\n",
        "\n",
        "#Mengganti nilai null kolom 'children' menjadi 0\n",
        "df['children'] = df['children'].fillna(0)"
      ],
      "metadata": {
        "id": "KyAdFEaXswsm"
      },
      "execution_count": null,
      "outputs": []
    },
    {
      "cell_type": "code",
      "source": [
        "df.isnull().sum()"
      ],
      "metadata": {
        "id": "brFGnQTkuzn8"
      },
      "execution_count": null,
      "outputs": []
    },
    {
      "cell_type": "markdown",
      "source": [
        "Nilai null pada data sudah ditangani"
      ],
      "metadata": {
        "id": "zJUwgPDvu4Yq"
      }
    },
    {
      "cell_type": "markdown",
      "source": [
        "## Handle Nilai Tidak Wajar"
      ],
      "metadata": {
        "id": "c2iogNzZsUo6"
      }
    },
    {
      "cell_type": "code",
      "source": [
        "categorical = []\n",
        "numerical = []\n",
        "for i in df.columns:\n",
        "  if df[i].dtype == 'object':\n",
        "    categorical.append(i)\n",
        "  else:\n",
        "    numerical.append(i)"
      ],
      "metadata": {
        "id": "O-WOlH25nqRo"
      },
      "execution_count": null,
      "outputs": []
    },
    {
      "cell_type": "code",
      "source": [
        "categorical"
      ],
      "metadata": {
        "colab": {
          "base_uri": "https://localhost:8080/",
          "height": 166
        },
        "id": "_nlUnbvC7yX6",
        "outputId": "d9184edc-9cf1-4480-9a17-030d2b45fe91"
      },
      "execution_count": 1,
      "outputs": [
        {
          "output_type": "error",
          "ename": "NameError",
          "evalue": "ignored",
          "traceback": [
            "\u001b[0;31m---------------------------------------------------------------------------\u001b[0m",
            "\u001b[0;31mNameError\u001b[0m                                 Traceback (most recent call last)",
            "\u001b[0;32m<ipython-input-1-dc40a658c7e1>\u001b[0m in \u001b[0;36m<module>\u001b[0;34m\u001b[0m\n\u001b[0;32m----> 1\u001b[0;31m \u001b[0mcategorical\u001b[0m\u001b[0;34m\u001b[0m\u001b[0;34m\u001b[0m\u001b[0m\n\u001b[0m",
            "\u001b[0;31mNameError\u001b[0m: name 'categorical' is not defined"
          ]
        }
      ]
    },
    {
      "cell_type": "code",
      "source": [
        "for i in categorical:\n",
        "  print(df[i].value_counts())"
      ],
      "metadata": {
        "id": "wLOs6brWoS2J"
      },
      "execution_count": null,
      "outputs": []
    },
    {
      "cell_type": "markdown",
      "source": [
        "Terdapat beberapa kolom kategorikal yang memiliki nilai yang tak terdefinisi (Undefined) yang nantinya bisa mengecoh machine learning. Oleh karena itu:\n",
        "- Untuk kolom 'meal' tidak dapat dihapus dikarenakan nilainya yang terlalu besar. Oleh karena itu, nilai Undefined akan diganti menjadi 'No Meal'.\n",
        "- Kolom 'distribution_channel' dan 'market_segment' hanya memiliki jumlah yang sangat kecil value Undefined. Oleh karena itu dapat dibuang"
      ],
      "metadata": {
        "id": "gb8PEt9fpuoG"
      }
    },
    {
      "cell_type": "code",
      "source": [
        "# Mengganti value undefined pada kolom 'meal' menjadi 'No Meal'\n",
        "df['meal'] = df['meal'].replace('Undefined', 'No Meal')"
      ],
      "metadata": {
        "id": "eIbT8kMwpbz_"
      },
      "execution_count": null,
      "outputs": []
    },
    {
      "cell_type": "code",
      "source": [
        "# Menghapus nilai undefined dari kolom 'distribution_channel' dan 'market_segment'\n",
        "df = df[~((df['market_segment'] == 'Undefined') | (df['distribution_channel'] == 'Undefined'))]"
      ],
      "metadata": {
        "id": "mg8PvScsrAv5"
      },
      "execution_count": null,
      "outputs": []
    },
    {
      "cell_type": "code",
      "source": [
        "df['distribution_channel'].value_counts()"
      ],
      "metadata": {
        "id": "CU_GOFKhnHOJ"
      },
      "execution_count": null,
      "outputs": []
    },
    {
      "cell_type": "code",
      "source": [
        "df['market_segment'].value_counts()"
      ],
      "metadata": {
        "id": "MfUmnPWPvU0o"
      },
      "execution_count": null,
      "outputs": []
    },
    {
      "cell_type": "markdown",
      "source": [
        "# Tugas 2 - Data Visualization"
      ],
      "metadata": {
        "id": "JMo9LLN5h1Uk"
      }
    },
    {
      "cell_type": "code",
      "source": [
        "df"
      ],
      "metadata": {
        "id": "yq5c7B22h9M9"
      },
      "execution_count": null,
      "outputs": []
    },
    {
      "cell_type": "code",
      "source": [
        "df"
      ],
      "metadata": {
        "id": "pUsSprZ1ji1X"
      },
      "execution_count": null,
      "outputs": []
    },
    {
      "cell_type": "code",
      "source": [
        "import math\n",
        "group_df = df.groupby(['hotel', 'arrival_date_month'])['arrival_date_year'].agg(['nunique', 'count']).reset_index()\n",
        "group_df['rata-rata per tahun'] = (group_df['count'] / group_df['nunique']).apply(lambda x: math.ceil(x))\n",
        "group_df"
      ],
      "metadata": {
        "id": "mUWgs-Uo4Tef"
      },
      "execution_count": null,
      "outputs": []
    },
    {
      "cell_type": "code",
      "source": [
        "from datetime import datetime\n",
        "# Define a function to convert month names to month numbers\n",
        "def month_number(month_name):\n",
        "    datetime_object = datetime.strptime(month_name, \"%B\")\n",
        "    month_number = datetime_object.month\n",
        "    return month_number\n",
        "\n",
        "# Add a new column with the month number\n",
        "group_df['Month_number'] = group_df['arrival_date_month'].apply(month_number)"
      ],
      "metadata": {
        "id": "xnaDnvINsROt"
      },
      "execution_count": null,
      "outputs": []
    },
    {
      "cell_type": "code",
      "source": [
        "group_df = group_df.sort_values(['hotel', 'Month_number']).reset_index(drop = True)\n",
        "group_df"
      ],
      "metadata": {
        "id": "n90oMgo0usIP"
      },
      "execution_count": null,
      "outputs": []
    },
    {
      "cell_type": "code",
      "source": [
        "plt.figure(figsize=(15, 6))\n",
        "sns.lineplot(data = group_df, x = 'arrival_date_month', y = 'rata-rata per tahun', hue = 'hotel')"
      ],
      "metadata": {
        "id": "lJNzJaH_5-AL"
      },
      "execution_count": null,
      "outputs": []
    },
    {
      "cell_type": "code",
      "source": [
        "fig, ax = plt.subplots(2,1, figsize = (10,7))\n",
        "\n",
        "sns.lineplot(data = group_df[group_df['hotel'] == 'City Hotel'], x = 'arrival_date_month', y = 'rata-rata per tahun', ax = ax[0], markers = True)\n",
        "ax[0].set_title('Grafik Chart City Hotel')\n",
        "ax[0].set_xlabel('Bulan')\n",
        "ax[0].set_ylabel('Jumlah Pemesanan Hotel')\n",
        "\n",
        "for _, row in group_df[group_df['hotel'] == 'City Hotel'].iterrows():\n",
        "    ax[0].text(row['arrival_date_month'], row['rata-rata per tahun'], row['rata-rata per tahun'], ha='center', va='bottom')\n",
        "\n",
        "sns.lineplot(data = group_df[group_df['hotel'] == 'Resort Hotel'], x = 'arrival_date_month', y = 'rata-rata per tahun', ax = ax[1], color = 'orange', markers = True)\n",
        "ax[1].set_title('Grafik Chart Resort Hotel')\n",
        "ax[1].set_xlabel('Bulan')\n",
        "ax[1].set_ylabel('Jumlah Pemesanan Hotel')\n",
        "\n",
        "for _, row in group_df[group_df['hotel'] == 'Resort Hotel'].iterrows():\n",
        "    ax[1].text(row['arrival_date_month'], row['rata-rata per tahun'], row['rata-rata per tahun'], ha='center', va='bottom')\n",
        "\n",
        "plt.tight_layout()"
      ],
      "metadata": {
        "id": "fYccUadvAQso"
      },
      "execution_count": null,
      "outputs": []
    },
    {
      "cell_type": "code",
      "source": [
        "fig, ax = plt.subplots(2,1, figsize = (10,7))\n",
        "\n",
        "sns.lineplot(data = group_df[group_df['hotel'] == 'City Hotel'], x = 'arrival_date_month', y = 'rata-rata per tahun', ax = ax[0], markers = True)\n",
        "ax[0].set_title('Grafik Chart City Hotel')\n",
        "ax[0].set_xlabel('Bulan')\n",
        "ax[0].set_ylabel('Jumlah Pemesanan Hotel')\n",
        "\n",
        "sns.lineplot(data = group_df[group_df['hotel'] == 'Resort Hotel'], x = 'arrival_date_month', y = 'rata-rata per tahun', ax = ax[1], color = 'orange', markers = True)\n",
        "ax[1].set_title('Grafik Chart Resort Hotel')\n",
        "ax[1].set_xlabel('Bulan')\n",
        "ax[1].set_ylabel('Jumlah Pemesanan Hotel')\n",
        "\n",
        "plt.tight_layout()"
      ],
      "metadata": {
        "id": "rkm1fSRbPDnr"
      },
      "execution_count": null,
      "outputs": []
    },
    {
      "cell_type": "markdown",
      "source": [
        "Berdasarkan gambar, interpretasi yang didapatkan: <br>\n",
        "<b>City Hotel</b>\n",
        "- Pada bulan Maret - Juli jumlah pemesanan hotel mengalami kecenderungan <b>peningkatan</b> yang signifikan. Selama periode tersebut, hotel mengalami peningkatan rata-rata sekitar 120%.\n",
        "- Pada bulan Januari - Maret, jumlah pemesanan hotel perlahan mengalami <b>penurunan</b> sekitar 14%\n",
        "- Pada bulan Juli - September, jumlah pemesanan mengalami <b>penurunan</b> sebesar 34%\n",
        "- Hotel kembali mengalami <b>peningkatan</b> di periode bulan September - Desember sebesar 41% <br>\n",
        "\n",
        "<b>Resort Hotel</b>\n",
        "- Pada bulan Maret - Juni jumlah pemesanan hotel mengalami kecenderungan <b>peningkatan</b> yang signifikan. Selama periode tersebut, hotel mengalami peningkatan rata-rata sekitar 64%\n",
        "- Pada bulan Januari - Maret, jumlah pemesanan hotel perlahan mengalami <b>penurunan</b> sekitar 10%\n",
        "- Pada bulan Juni - Agustus, jumlah pemesanan mengalami <b>penurunan</b> sebesar 16%\n",
        "- Hotel kembali mengalami <b>peningkatan</b> di periode bulan Agustus - Desember sebesar 17% <br>"
      ],
      "metadata": {
        "id": "UCWdcMiX_CDX"
      }
    },
    {
      "cell_type": "code",
      "source": [],
      "metadata": {
        "id": "pWgh1HD1G8AK"
      },
      "execution_count": null,
      "outputs": []
    }
  ]
}